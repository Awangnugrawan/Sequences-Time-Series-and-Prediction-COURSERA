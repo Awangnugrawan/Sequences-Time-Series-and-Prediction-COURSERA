{
  "cells": [
    {
      "cell_type": "markdown",
      "metadata": {
        "id": "HiqoYY9IrPIj"
      },
      "source": [
        "<a href=\"https://colab.research.google.com/github/https-deeplearning-ai/tensorflow-1-public/blob/main/C4/W3/ungraded_labs/C4_W3_Lab_2_LSTM.ipynb\" target=\"_parent\"><img src=\"https://colab.research.google.com/assets/colab-badge.svg\" alt=\"Open In Colab\"/></a>"
      ]
    },
    {
      "cell_type": "markdown",
      "metadata": {
        "id": "sV_nvXSQGJPK"
      },
      "source": [
        "# Ungraded Lab: Using a multi-layer LSTM for forecasting\n",
        "\n",
        "In this lab, you will use the same RNN architecure in the first lab but will instead stack [LSTM](https://www.tensorflow.org/api_docs/python/tf/keras/layers/LSTM) layers instead of `SimpleRNN`."
      ]
    },
    {
      "cell_type": "markdown",
      "metadata": {
        "id": "3IMbAWETGOWD"
      },
      "source": [
        "## Imports"
      ]
    },
    {
      "cell_type": "code",
      "execution_count": 1,
      "metadata": {
        "id": "BOjujz601HcS"
      },
      "outputs": [],
      "source": [
        "import tensorflow as tf\n",
        "import numpy as np\n",
        "import matplotlib.pyplot as plt"
      ]
    },
    {
      "cell_type": "markdown",
      "metadata": {
        "id": "kD7RQQ0xGQVH"
      },
      "source": [
        "## Utilities"
      ]
    },
    {
      "cell_type": "code",
      "execution_count": 2,
      "metadata": {
        "id": "Zswl7jRtGzkk"
      },
      "outputs": [],
      "source": [
        "def plot_series(time, series, format=\"-\", start=0, end=None):\n",
        "    \"\"\"\n",
        "    Visualizes time series data\n",
        "\n",
        "    Args:\n",
        "      time (array of int) - contains the time steps\n",
        "      series (array of int) - contains the measurements for each time step\n",
        "      format - line style when plotting the graph\n",
        "      start - first time step to plot\n",
        "      end - last time step to plot\n",
        "    \"\"\"\n",
        "\n",
        "    # Setup dimensions of the graph figure\n",
        "    plt.figure(figsize=(10, 6))\n",
        "    \n",
        "    if type(series) is tuple:\n",
        "\n",
        "      for series_num in series:\n",
        "        # Plot the time series data\n",
        "        plt.plot(time[start:end], series_num[start:end], format)\n",
        "\n",
        "    else:\n",
        "      # Plot the time series data\n",
        "      plt.plot(time[start:end], series[start:end], format)\n",
        "\n",
        "    # Label the x-axis\n",
        "    plt.xlabel(\"Time\")\n",
        "\n",
        "    # Label the y-axis\n",
        "    plt.ylabel(\"Value\")\n",
        "\n",
        "    # Overlay a grid on the graph\n",
        "    plt.grid(True)\n",
        "\n",
        "    # Draw the graph on screen\n",
        "    plt.show()\n",
        "\n",
        "def trend(time, slope=0):\n",
        "    \"\"\"\n",
        "    Generates synthetic data that follows a straight line given a slope value.\n",
        "\n",
        "    Args:\n",
        "      time (array of int) - contains the time steps\n",
        "      slope (float) - determines the direction and steepness of the line\n",
        "\n",
        "    Returns:\n",
        "      series (array of float) - measurements that follow a straight line\n",
        "    \"\"\"\n",
        "\n",
        "    # Compute the linear series given the slope\n",
        "    series = slope * time\n",
        "\n",
        "    return series\n",
        "\n",
        "def seasonal_pattern(season_time):\n",
        "    \"\"\"\n",
        "    Just an arbitrary pattern, you can change it if you wish\n",
        "    \n",
        "    Args:\n",
        "      season_time (array of float) - contains the measurements per time step\n",
        "\n",
        "    Returns:\n",
        "      data_pattern (array of float) -  contains revised measurement values according \n",
        "                                  to the defined pattern\n",
        "    \"\"\"\n",
        "\n",
        "    # Generate the values using an arbitrary pattern\n",
        "    data_pattern = np.where(season_time < 0.4,\n",
        "                    np.cos(season_time * 2 * np.pi),\n",
        "                    1 / np.exp(3 * season_time))\n",
        "    \n",
        "    return data_pattern\n",
        "\n",
        "def seasonality(time, period, amplitude=1, phase=0):\n",
        "    \"\"\"\n",
        "    Repeats the same pattern at each period\n",
        "\n",
        "    Args:\n",
        "      time (array of int) - contains the time steps\n",
        "      period (int) - number of time steps before the pattern repeats\n",
        "      amplitude (int) - peak measured value in a period\n",
        "      phase (int) - number of time steps to shift the measured values\n",
        "\n",
        "    Returns:\n",
        "      data_pattern (array of float) - seasonal data scaled by the defined amplitude\n",
        "    \"\"\"\n",
        "    \n",
        "    # Define the measured values per period\n",
        "    season_time = ((time + phase) % period) / period\n",
        "\n",
        "    # Generates the seasonal data scaled by the defined amplitude\n",
        "    data_pattern = amplitude * seasonal_pattern(season_time)\n",
        "\n",
        "    return data_pattern\n",
        "\n",
        "def noise(time, noise_level=1, seed=None):\n",
        "    \"\"\"Generates a normally distributed noisy signal\n",
        "\n",
        "    Args:\n",
        "      time (array of int) - contains the time steps\n",
        "      noise_level (float) - scaling factor for the generated signal\n",
        "      seed (int) - number generator seed for repeatability\n",
        "\n",
        "    Returns:\n",
        "      noise (array of float) - the noisy signal\n",
        "    \"\"\"\n",
        "\n",
        "    # Initialize the random number generator\n",
        "    rnd = np.random.RandomState(seed)\n",
        "\n",
        "    # Generate a random number for each time step and scale by the noise level\n",
        "    noise = rnd.randn(len(time)) * noise_level\n",
        "    \n",
        "    return noise"
      ]
    },
    {
      "cell_type": "markdown",
      "metadata": {
        "id": "yxNyeFWjGSdj"
      },
      "source": [
        "## Generate the Synthetic Data"
      ]
    },
    {
      "cell_type": "code",
      "execution_count": 3,
      "metadata": {
        "id": "KYEUfDbdpHPm",
        "colab": {
          "base_uri": "https://localhost:8080/",
          "height": 542
        },
        "outputId": "988a3049-67a4-4e96-dd95-1ba693768ece"
      },
      "outputs": [
        {
          "output_type": "display_data",
          "data": {
            "text/plain": [
              "<Figure size 1000x600 with 1 Axes>"
            ],
            "image/png": "[encoded data removed]"
          },
          "metadata": {}
        }
      ],
      "source": [
        "# Parameters\n",
        "time = np.arange(4 * 365 + 1, dtype=\"float32\")\n",
        "baseline = 10\n",
        "amplitude = 40\n",
        "slope = 0.05\n",
        "noise_level = 5\n",
        "\n",
        "# Create the series\n",
        "series = baseline + trend(time, slope) + seasonality(time, period=365, amplitude=amplitude)\n",
        "\n",
        "# Update with noise\n",
        "series += noise(time, noise_level, seed=42)\n",
        "\n",
        "# Plot the results\n",
        "plot_series(time, series)"
      ]
    },
    {
      "cell_type": "markdown",
      "metadata": {
        "id": "MYKCvv-eGWRc"
      },
      "source": [
        "## Split the Dataset"
      ]
    },
    {
      "cell_type": "code",
      "execution_count": 4,
      "metadata": {
        "id": "hpp0slenpKVD"
      },
      "outputs": [],
      "source": [
        "# Define the split time\n",
        "split_time = 1000\n",
        "\n",
        "# Get the train set \n",
        "time_train = time[:split_time]\n",
        "x_train = series[:split_time]\n",
        "\n",
        "# Get the validation set\n",
        "time_valid = time[split_time:]\n",
        "x_valid = series[split_time:]"
      ]
    },
    {
      "cell_type": "markdown",
      "metadata": {
        "id": "cktHz9aOGYtV"
      },
      "source": [
        "## Prepare Features and Labels"
      ]
    },
    {
      "cell_type": "code",
      "execution_count": 5,
      "metadata": {
        "id": "G_j_2_Mqwn7-"
      },
      "outputs": [],
      "source": [
        "# Parameters\n",
        "window_size = 20\n",
        "batch_size = 32\n",
        "shuffle_buffer_size = 1000"
      ]
    },
    {
      "cell_type": "code",
      "execution_count": 6,
      "metadata": {
        "id": "4sTTIOCbyShY"
      },
      "outputs": [],
      "source": [
        "def windowed_dataset(series, window_size, batch_size, shuffle_buffer):\n",
        "    \"\"\"Generates dataset windows\n",
        "\n",
        "    Args:\n",
        "      series (array of float) - contains the values of the time series\n",
        "      window_size (int) - the number of time steps to include in the feature\n",
        "      batch_size (int) - the batch size\n",
        "      shuffle_buffer(int) - buffer size to use for the shuffle method\n",
        "\n",
        "    Returns:\n",
        "      dataset (TF Dataset) - TF Dataset containing time windows\n",
        "    \"\"\"\n",
        "  \n",
        "    # Generate a TF Dataset from the series values\n",
        "    dataset = tf.data.Dataset.from_tensor_slices(series)\n",
        "    \n",
        "    # Window the data but only take those with the specified size\n",
        "    dataset = dataset.window(window_size + 1, shift=1, drop_remainder=True)\n",
        "    \n",
        "    # Flatten the windows by putting its elements in a single batch\n",
        "    dataset = dataset.flat_map(lambda window: window.batch(window_size + 1))\n",
        "\n",
        "    # Create tuples with features and labels \n",
        "    dataset = dataset.map(lambda window: (window[:-1], window[-1]))\n",
        "\n",
        "    # Shuffle the windows\n",
        "    dataset = dataset.shuffle(shuffle_buffer)\n",
        "    \n",
        "    # Create batches of windows\n",
        "    dataset = dataset.batch(batch_size).prefetch(1)\n",
        "    \n",
        "    return dataset"
      ]
    },
    {
      "cell_type": "code",
      "execution_count": 7,
      "metadata": {
        "id": "vGj5-InSwtQQ"
      },
      "outputs": [],
      "source": [
        "# Generate the dataset windows\n",
        "dataset = windowed_dataset(x_train, window_size, batch_size, shuffle_buffer_size)"
      ]
    },
    {
      "cell_type": "markdown",
      "metadata": {
        "id": "p9-Ke8ZaGcjd"
      },
      "source": [
        "## Build the Model\n",
        "\n",
        "As mentioned, you will swap `SimpleRNN` for `LSTM` in this lab. It is also set as bidirectional below but feel free to revise later and see what results you get. LSTMs are much more complex in their internal architecture than simpleRNNs. It implements a cell state that allows it to remember sequences better than simple implementations. This added complexity results in a bigger set of parameters to train and you'll see that when you print the model summary below."
      ]
    },
    {
      "cell_type": "code",
      "execution_count": 8,
      "metadata": {
        "id": "A1Hl39rklkLm",
        "colab": {
          "base_uri": "https://localhost:8080/"
        },
        "outputId": "f6309d98-7e48-4f91-88e8-91a2d88d05e3"
      },
      "outputs": [
        {
          "output_type": "stream",
          "name": "stdout",
          "text": [
            "Model: \"sequential\"\n",
            "_________________________________________________________________\n",
            " Layer (type)                Output Shape              Param #   \n",
            "=================================================================\n",
            " lambda (Lambda)             (None, 20, 1)             0         \n",
            "                                                                 \n",
            " bidirectional (Bidirectiona  (None, 20, 64)           8704      \n",
            " l)                                                              \n",
            "                                                                 \n",
            " bidirectional_1 (Bidirectio  (None, 64)               24832     \n",
            " nal)                                                            \n",
            "                                                                 \n",
            " dense (Dense)               (None, 1)                 65        \n",
            "                                                                 \n",
            " lambda_1 (Lambda)           (None, 1)                 0         \n",
            "                                                                 \n",
            "=================================================================\n",
            "Total params: 33,601\n",
            "Trainable params: 33,601\n",
            "Non-trainable params: 0\n",
            "_________________________________________________________________\n"
          ]
        }
      ],
      "source": [
        "# Build the Model\n",
        "model_tune = tf.keras.models.Sequential([\n",
        "  tf.keras.layers.Lambda(lambda x: tf.expand_dims(x, axis=-1),\n",
        "                      input_shape=[window_size]),\n",
        "    tf.keras.layers.Bidirectional(tf.keras.layers.LSTM(32, return_sequences=True)),\n",
        "  tf.keras.layers.Bidirectional(tf.keras.layers.LSTM(32)),\n",
        "  tf.keras.layers.Dense(1),\n",
        "  tf.keras.layers.Lambda(lambda x: x * 100.0)\n",
        "])\n",
        "\n",
        "# Print the model summary\n",
        "model_tune.summary()"
      ]
    },
    {
      "cell_type": "markdown",
      "metadata": {
        "id": "FHaFblbwq0GV"
      },
      "source": [
        "## Tune the Learning Rate\n",
        "\n",
        "As usual, you will pick a learning rate by running the tuning code below."
      ]
    },
    {
      "cell_type": "code",
      "execution_count": 9,
      "metadata": {
        "id": "qE7al18qw48G",
        "colab": {
          "base_uri": "https://localhost:8080/"
        },
        "outputId": "3082a285-3f33-4194-e8b0-161d994349d3"
      },
      "outputs": [
        {
          "output_type": "stream",
          "name": "stdout",
          "text": [
            "Epoch 1/100\n",
            "31/31 [==============================] - 20s 19ms/step - loss: 20.3034 - lr: 1.0000e-08\n",
            "Epoch 2/100\n",
            "31/31 [==============================] - 0s 9ms/step - loss: 20.1510 - lr: 1.1220e-08\n",
            "Epoch 3/100\n",
            "31/31 [==============================] - 0s 9ms/step - loss: 19.9770 - lr: 1.2589e-08\n",
            "Epoch 4/100\n",
            "31/31 [==============================] - 0s 9ms/step - loss: 19.7899 - lr: 1.4125e-08\n",
            "Epoch 5/100\n",
            "31/31 [==============================] - 0s 8ms/step - loss: 19.5911 - lr: 1.5849e-08\n",
            "Epoch 6/100\n",
            "31/31 [==============================] - 0s 8ms/step - loss: 19.3750 - lr: 1.7783e-08\n",
            "Epoch 7/100\n",
            "31/31 [==============================] - 0s 8ms/step - loss: 19.1492 - lr: 1.9953e-08\n",
            "Epoch 8/100\n",
            "31/31 [==============================] - 0s 9ms/step - loss: 18.9053 - lr: 2.2387e-08\n",
            "Epoch 9/100\n",
            "31/31 [==============================] - 0s 10ms/step - loss: 18.6490 - lr: 2.5119e-08\n",
            "Epoch 10/100\n",
            "31/31 [==============================] - 0s 9ms/step - loss: 18.3686 - lr: 2.8184e-08\n",
            "Epoch 11/100\n",
            "31/31 [==============================] - 0s 9ms/step - loss: 18.0661 - lr: 3.1623e-08\n",
            "Epoch 12/100\n",
            "31/31 [==============================] - 0s 8ms/step - loss: 17.7420 - lr: 3.5481e-08\n",
            "Epoch 13/100\n",
            "31/31 [==============================] - 0s 8ms/step - loss: 17.3912 - lr: 3.9811e-08\n",
            "Epoch 14/100\n",
            "31/31 [==============================] - 0s 9ms/step - loss: 17.0253 - lr: 4.4668e-08\n",
            "Epoch 15/100\n",
            "31/31 [==============================] - 0s 9ms/step - loss: 16.6312 - lr: 5.0119e-08\n",
            "Epoch 16/100\n",
            "31/31 [==============================] - 0s 8ms/step - loss: 16.2112 - lr: 5.6234e-08\n",
            "Epoch 17/100\n",
            "31/31 [==============================] - 0s 8ms/step - loss: 15.7879 - lr: 6.3096e-08\n",
            "Epoch 18/100\n",
            "31/31 [==============================] - 0s 8ms/step - loss: 15.3612 - lr: 7.0795e-08\n",
            "Epoch 19/100\n",
            "31/31 [==============================] - 0s 13ms/step - loss: 14.9443 - lr: 7.9433e-08\n",
            "Epoch 20/100\n",
            "31/31 [==============================] - 1s 12ms/step - loss: 14.5674 - lr: 8.9125e-08\n",
            "Epoch 21/100\n",
            "31/31 [==============================] - 1s 12ms/step - loss: 14.2174 - lr: 1.0000e-07\n",
            "Epoch 22/100\n",
            "31/31 [==============================] - 1s 13ms/step - loss: 13.8879 - lr: 1.1220e-07\n",
            "Epoch 23/100\n",
            "31/31 [==============================] - 0s 8ms/step - loss: 13.5784 - lr: 1.2589e-07\n",
            "Epoch 24/100\n",
            "31/31 [==============================] - 0s 8ms/step - loss: 13.2858 - lr: 1.4125e-07\n",
            "Epoch 25/100\n",
            "31/31 [==============================] - 0s 9ms/step - loss: 13.0058 - lr: 1.5849e-07\n",
            "Epoch 26/100\n",
            "31/31 [==============================] - 0s 9ms/step - loss: 12.7096 - lr: 1.7783e-07\n",
            "Epoch 27/100\n",
            "31/31 [==============================] - 0s 8ms/step - loss: 12.4130 - lr: 1.9953e-07\n",
            "Epoch 28/100\n",
            "31/31 [==============================] - 0s 9ms/step - loss: 12.1006 - lr: 2.2387e-07\n",
            "Epoch 29/100\n",
            "31/31 [==============================] - 0s 8ms/step - loss: 11.7766 - lr: 2.5119e-07\n",
            "Epoch 30/100\n",
            "31/31 [==============================] - 0s 8ms/step - loss: 11.4445 - lr: 2.8184e-07\n",
            "Epoch 31/100\n",
            "31/31 [==============================] - 0s 8ms/step - loss: 11.1168 - lr: 3.1623e-07\n",
            "Epoch 32/100\n",
            "31/31 [==============================] - 0s 8ms/step - loss: 10.7676 - lr: 3.5481e-07\n",
            "Epoch 33/100\n",
            "31/31 [==============================] - 0s 9ms/step - loss: 10.4203 - lr: 3.9811e-07\n",
            "Epoch 34/100\n",
            "31/31 [==============================] - 0s 8ms/step - loss: 10.0558 - lr: 4.4668e-07\n",
            "Epoch 35/100\n",
            "31/31 [==============================] - 0s 8ms/step - loss: 9.6784 - lr: 5.0119e-07\n",
            "Epoch 36/100\n",
            "31/31 [==============================] - 0s 8ms/step - loss: 9.3266 - lr: 5.6234e-07\n",
            "Epoch 37/100\n",
            "31/31 [==============================] - 0s 9ms/step - loss: 8.9494 - lr: 6.3096e-07\n",
            "Epoch 38/100\n",
            "31/31 [==============================] - 0s 9ms/step - loss: 8.6078 - lr: 7.0795e-07\n",
            "Epoch 39/100\n",
            "31/31 [==============================] - 0s 8ms/step - loss: 8.2510 - lr: 7.9433e-07\n",
            "Epoch 40/100\n",
            "31/31 [==============================] - 0s 8ms/step - loss: 7.9255 - lr: 8.9125e-07\n",
            "Epoch 41/100\n",
            "31/31 [==============================] - 0s 9ms/step - loss: 7.6217 - lr: 1.0000e-06\n",
            "Epoch 42/100\n",
            "31/31 [==============================] - 0s 8ms/step - loss: 7.3356 - lr: 1.1220e-06\n",
            "Epoch 43/100\n",
            "31/31 [==============================] - 0s 8ms/step - loss: 7.1186 - lr: 1.2589e-06\n",
            "Epoch 44/100\n",
            "31/31 [==============================] - 0s 8ms/step - loss: 6.8943 - lr: 1.4125e-06\n",
            "Epoch 45/100\n",
            "31/31 [==============================] - 0s 9ms/step - loss: 6.6859 - lr: 1.5849e-06\n",
            "Epoch 46/100\n",
            "31/31 [==============================] - 0s 8ms/step - loss: 6.4929 - lr: 1.7783e-06\n",
            "Epoch 47/100\n",
            "31/31 [==============================] - 0s 8ms/step - loss: 6.3399 - lr: 1.9953e-06\n",
            "Epoch 48/100\n",
            "31/31 [==============================] - 0s 11ms/step - loss: 6.1770 - lr: 2.2387e-06\n",
            "Epoch 49/100\n",
            "31/31 [==============================] - 1s 12ms/step - loss: 6.0493 - lr: 2.5119e-06\n",
            "Epoch 50/100\n",
            "31/31 [==============================] - 1s 12ms/step - loss: 5.9907 - lr: 2.8184e-06\n",
            "Epoch 51/100\n",
            "31/31 [==============================] - 1s 12ms/step - loss: 5.8730 - lr: 3.1623e-06\n",
            "Epoch 52/100\n",
            "31/31 [==============================] - 0s 8ms/step - loss: 5.6982 - lr: 3.5481e-06\n",
            "Epoch 53/100\n",
            "31/31 [==============================] - 0s 9ms/step - loss: 5.6313 - lr: 3.9811e-06\n",
            "Epoch 54/100\n",
            "31/31 [==============================] - 0s 8ms/step - loss: 5.4822 - lr: 4.4668e-06\n",
            "Epoch 55/100\n",
            "31/31 [==============================] - 0s 8ms/step - loss: 5.3118 - lr: 5.0119e-06\n",
            "Epoch 56/100\n",
            "31/31 [==============================] - 0s 9ms/step - loss: 5.0723 - lr: 5.6234e-06\n",
            "Epoch 57/100\n",
            "31/31 [==============================] - 0s 8ms/step - loss: 5.0729 - lr: 6.3096e-06\n",
            "Epoch 58/100\n",
            "31/31 [==============================] - 0s 9ms/step - loss: 5.0159 - lr: 7.0795e-06\n",
            "Epoch 59/100\n",
            "31/31 [==============================] - 0s 8ms/step - loss: 5.3049 - lr: 7.9433e-06\n",
            "Epoch 60/100\n",
            "31/31 [==============================] - 0s 8ms/step - loss: 5.2448 - lr: 8.9125e-06\n",
            "Epoch 61/100\n",
            "31/31 [==============================] - 0s 9ms/step - loss: 4.8500 - lr: 1.0000e-05\n",
            "Epoch 62/100\n",
            "31/31 [==============================] - 0s 8ms/step - loss: 4.9819 - lr: 1.1220e-05\n",
            "Epoch 63/100\n",
            "31/31 [==============================] - 0s 8ms/step - loss: 5.0627 - lr: 1.2589e-05\n",
            "Epoch 64/100\n",
            "31/31 [==============================] - 0s 9ms/step - loss: 4.7925 - lr: 1.4125e-05\n",
            "Epoch 65/100\n",
            "31/31 [==============================] - 0s 8ms/step - loss: 4.7427 - lr: 1.5849e-05\n",
            "Epoch 66/100\n",
            "31/31 [==============================] - 0s 8ms/step - loss: 5.8993 - lr: 1.7783e-05\n",
            "Epoch 67/100\n",
            "31/31 [==============================] - 0s 9ms/step - loss: 5.8093 - lr: 1.9953e-05\n",
            "Epoch 68/100\n",
            "31/31 [==============================] - 0s 8ms/step - loss: 5.1872 - lr: 2.2387e-05\n",
            "Epoch 69/100\n",
            "31/31 [==============================] - 0s 8ms/step - loss: 6.1261 - lr: 2.5119e-05\n",
            "Epoch 70/100\n",
            "31/31 [==============================] - 0s 8ms/step - loss: 5.6204 - lr: 2.8184e-05\n",
            "Epoch 71/100\n",
            "31/31 [==============================] - 0s 9ms/step - loss: 5.8293 - lr: 3.1623e-05\n",
            "Epoch 72/100\n",
            "31/31 [==============================] - 0s 8ms/step - loss: 5.4537 - lr: 3.5481e-05\n",
            "Epoch 73/100\n",
            "31/31 [==============================] - 0s 9ms/step - loss: 4.9595 - lr: 3.9811e-05\n",
            "Epoch 74/100\n",
            "31/31 [==============================] - 0s 8ms/step - loss: 6.1721 - lr: 4.4668e-05\n",
            "Epoch 75/100\n",
            "31/31 [==============================] - 0s 8ms/step - loss: 5.1568 - lr: 5.0119e-05\n",
            "Epoch 76/100\n",
            "31/31 [==============================] - 0s 8ms/step - loss: 6.6374 - lr: 5.6234e-05\n",
            "Epoch 77/100\n",
            "31/31 [==============================] - 0s 8ms/step - loss: 6.2433 - lr: 6.3096e-05\n",
            "Epoch 78/100\n",
            "31/31 [==============================] - 0s 8ms/step - loss: 5.6966 - lr: 7.0795e-05\n",
            "Epoch 79/100\n",
            "31/31 [==============================] - 0s 12ms/step - loss: 5.8850 - lr: 7.9433e-05\n",
            "Epoch 80/100\n",
            "31/31 [==============================] - 1s 12ms/step - loss: 7.3227 - lr: 8.9125e-05\n",
            "Epoch 81/100\n",
            "31/31 [==============================] - 1s 13ms/step - loss: 7.6092 - lr: 1.0000e-04\n",
            "Epoch 82/100\n",
            "31/31 [==============================] - 1s 12ms/step - loss: 6.7665 - lr: 1.1220e-04\n",
            "Epoch 83/100\n",
            "31/31 [==============================] - 0s 9ms/step - loss: 6.3852 - lr: 1.2589e-04\n",
            "Epoch 84/100\n",
            "31/31 [==============================] - 0s 9ms/step - loss: 6.0279 - lr: 1.4125e-04\n",
            "Epoch 85/100\n",
            "31/31 [==============================] - 0s 8ms/step - loss: 7.1936 - lr: 1.5849e-04\n",
            "Epoch 86/100\n",
            "31/31 [==============================] - 0s 9ms/step - loss: 6.5588 - lr: 1.7783e-04\n",
            "Epoch 87/100\n",
            "31/31 [==============================] - 0s 8ms/step - loss: 6.8018 - lr: 1.9953e-04\n",
            "Epoch 88/100\n",
            "31/31 [==============================] - 0s 8ms/step - loss: 6.9970 - lr: 2.2387e-04\n",
            "Epoch 89/100\n",
            "31/31 [==============================] - 0s 8ms/step - loss: 10.4019 - lr: 2.5119e-04\n",
            "Epoch 90/100\n",
            "31/31 [==============================] - 0s 8ms/step - loss: 7.1634 - lr: 2.8184e-04\n",
            "Epoch 91/100\n",
            "31/31 [==============================] - 0s 8ms/step - loss: 6.2209 - lr: 3.1623e-04\n",
            "Epoch 92/100\n",
            "31/31 [==============================] - 0s 9ms/step - loss: 8.1470 - lr: 3.5481e-04\n",
            "Epoch 93/100\n",
            "31/31 [==============================] - 0s 8ms/step - loss: 7.8380 - lr: 3.9811e-04\n",
            "Epoch 94/100\n",
            "31/31 [==============================] - 0s 8ms/step - loss: 8.9459 - lr: 4.4668e-04\n",
            "Epoch 95/100\n",
            "31/31 [==============================] - 0s 9ms/step - loss: 7.5990 - lr: 5.0119e-04\n",
            "Epoch 96/100\n",
            "31/31 [==============================] - 0s 8ms/step - loss: 7.7483 - lr: 5.6234e-04\n",
            "Epoch 97/100\n",
            "31/31 [==============================] - 0s 8ms/step - loss: 11.0511 - lr: 6.3096e-04\n",
            "Epoch 98/100\n",
            "31/31 [==============================] - 0s 8ms/step - loss: 12.1104 - lr: 7.0795e-04\n",
            "Epoch 99/100\n",
            "31/31 [==============================] - 0s 8ms/step - loss: 12.9061 - lr: 7.9433e-04\n",
            "Epoch 100/100\n",
            "31/31 [==============================] - 0s 8ms/step - loss: 14.2926 - lr: 8.9125e-04\n"
          ]
        }
      ],
      "source": [
        "# Set the learning rate scheduler\n",
        "lr_schedule = tf.keras.callbacks.LearningRateScheduler(\n",
        "    lambda epoch: 1e-8 * 10**(epoch / 20))\n",
        "\n",
        "# Initialize the optimizer\n",
        "optimizer = tf.keras.optimizers.SGD(momentum=0.9)\n",
        "\n",
        "# Set the training parameters\n",
        "model_tune.compile(loss=tf.keras.losses.Huber(), optimizer=optimizer)\n",
        "\n",
        "# Train the model\n",
        "history = model_tune.fit(dataset, epochs=100, callbacks=[lr_schedule])"
      ]
    },
    {
      "cell_type": "code",
      "execution_count": 21,
      "metadata": {
        "id": "AkBsrsXMzoWR",
        "colab": {
          "base_uri": "https://localhost:8080/",
          "height": 558
        },
        "outputId": "ca1ea453-c99a-4119-9a67-aec03acaa1b4"
      },
      "outputs": [
        {
          "output_type": "execute_result",
          "data": {
            "text/plain": [
              "(1e-08, 0.001, 0.0, 30.0)"
            ]
          },
          "metadata": {},
          "execution_count": 21
        },
        {
          "output_type": "display_data",
          "data": {
            "text/plain": [
              "<Figure size 1000x600 with 1 Axes>"
            ],
            "image/png": "[encoded data removed]"
          },
          "metadata": {}
        }
      ],
      "source": [
        "# Define the learning rate array\n",
        "lrs = 1e-8 * (10 ** (np.arange(100) / 20))\n",
        "\n",
        "# Set the figure size\n",
        "plt.figure(figsize=(10, 6))\n",
        "\n",
        "# Set the grid\n",
        "plt.grid(True)\n",
        "\n",
        "# Plot the loss in log scale\n",
        "plt.semilogx(lrs, history.history[\"loss\"])\n",
        "\n",
        "# Increase the tickmarks size\n",
        "plt.tick_params('both', length=10, width=1, which='both')\n",
        "\n",
        "# Set the plot boundaries\n",
        "plt.axis([1e-8, 1e-3, 0, 30])"
      ]
    },
    {
      "cell_type": "markdown",
      "metadata": {
        "id": "i-lKNp4pq_w8"
      },
      "source": [
        "## Train the Model\n",
        "\n",
        "You can then proceed to train the model with your chosen learning rate. \n",
        "\n",
        "*Tip: When experimenting and you find yourself running different iterations of a model, you may want to use the [`clear_session()`](https://www.tensorflow.org/api_docs/python/tf/keras/backend/clear_session) method to declutter memory used by Keras. This is added in the first line below.*\n"
      ]
    },
    {
      "cell_type": "code",
      "execution_count": 11,
      "metadata": {
        "id": "4uh-97bpLZCA",
        "colab": {
          "base_uri": "https://localhost:8080/"
        },
        "outputId": "d3df874e-5502-4925-8330-83d6c1a5c0b6"
      },
      "outputs": [
        {
          "output_type": "stream",
          "name": "stdout",
          "text": [
            "Epoch 1/100\n",
            "31/31 [==============================] - 7s 9ms/step - loss: 44.6912 - mae: 45.1887\n",
            "Epoch 2/100\n",
            "31/31 [==============================] - 0s 9ms/step - loss: 10.8761 - mae: 11.3623\n",
            "Epoch 3/100\n",
            "31/31 [==============================] - 0s 9ms/step - loss: 8.7033 - mae: 9.1878\n",
            "Epoch 4/100\n",
            "31/31 [==============================] - 0s 9ms/step - loss: 8.0720 - mae: 8.5547\n",
            "Epoch 5/100\n",
            "31/31 [==============================] - 0s 9ms/step - loss: 7.6623 - mae: 8.1459\n",
            "Epoch 6/100\n",
            "31/31 [==============================] - 0s 9ms/step - loss: 7.3264 - mae: 7.8078\n",
            "Epoch 7/100\n",
            "31/31 [==============================] - 0s 8ms/step - loss: 7.0614 - mae: 7.5380\n",
            "Epoch 8/100\n",
            "31/31 [==============================] - 0s 8ms/step - loss: 6.9023 - mae: 7.3872\n",
            "Epoch 9/100\n",
            "31/31 [==============================] - 0s 9ms/step - loss: 6.6887 - mae: 7.1649\n",
            "Epoch 10/100\n",
            "31/31 [==============================] - 0s 8ms/step - loss: 6.5229 - mae: 6.9998\n",
            "Epoch 11/100\n",
            "31/31 [==============================] - 0s 8ms/step - loss: 6.3822 - mae: 6.8592\n",
            "Epoch 12/100\n",
            "31/31 [==============================] - 0s 9ms/step - loss: 6.2594 - mae: 6.7434\n",
            "Epoch 13/100\n",
            "31/31 [==============================] - 0s 8ms/step - loss: 6.2629 - mae: 6.7467\n",
            "Epoch 14/100\n",
            "31/31 [==============================] - 0s 9ms/step - loss: 6.1349 - mae: 6.6163\n",
            "Epoch 15/100\n",
            "31/31 [==============================] - 0s 8ms/step - loss: 5.9312 - mae: 6.4104\n",
            "Epoch 16/100\n",
            "31/31 [==============================] - 0s 9ms/step - loss: 5.8450 - mae: 6.3248\n",
            "Epoch 17/100\n",
            "31/31 [==============================] - 0s 8ms/step - loss: 5.9369 - mae: 6.4120\n",
            "Epoch 18/100\n",
            "31/31 [==============================] - 0s 9ms/step - loss: 5.7494 - mae: 6.2314\n",
            "Epoch 19/100\n",
            "31/31 [==============================] - 0s 9ms/step - loss: 5.6514 - mae: 6.1306\n",
            "Epoch 20/100\n",
            "31/31 [==============================] - 1s 14ms/step - loss: 5.5857 - mae: 6.0624\n",
            "Epoch 21/100\n",
            "31/31 [==============================] - 1s 12ms/step - loss: 5.5187 - mae: 5.9956\n",
            "Epoch 22/100\n",
            "31/31 [==============================] - 1s 13ms/step - loss: 5.4810 - mae: 5.9559\n",
            "Epoch 23/100\n",
            "31/31 [==============================] - 0s 10ms/step - loss: 5.6227 - mae: 6.1030\n",
            "Epoch 24/100\n",
            "31/31 [==============================] - 0s 9ms/step - loss: 5.4907 - mae: 5.9701\n",
            "Epoch 25/100\n",
            "31/31 [==============================] - 0s 8ms/step - loss: 5.3723 - mae: 5.8492\n",
            "Epoch 26/100\n",
            "31/31 [==============================] - 0s 8ms/step - loss: 5.3434 - mae: 5.8193\n",
            "Epoch 27/100\n",
            "31/31 [==============================] - 0s 9ms/step - loss: 5.3061 - mae: 5.7809\n",
            "Epoch 28/100\n",
            "31/31 [==============================] - 0s 9ms/step - loss: 5.3020 - mae: 5.7792\n",
            "Epoch 29/100\n",
            "31/31 [==============================] - 0s 9ms/step - loss: 5.3323 - mae: 5.8120\n",
            "Epoch 30/100\n",
            "31/31 [==============================] - 0s 9ms/step - loss: 5.2168 - mae: 5.6929\n",
            "Epoch 31/100\n",
            "31/31 [==============================] - 0s 8ms/step - loss: 5.1727 - mae: 5.6486\n",
            "Epoch 32/100\n",
            "31/31 [==============================] - 0s 9ms/step - loss: 5.1691 - mae: 5.6471\n",
            "Epoch 33/100\n",
            "31/31 [==============================] - 0s 8ms/step - loss: 5.1473 - mae: 5.6251\n",
            "Epoch 34/100\n",
            "31/31 [==============================] - 0s 8ms/step - loss: 5.1073 - mae: 5.5848\n",
            "Epoch 35/100\n",
            "31/31 [==============================] - 0s 9ms/step - loss: 5.1315 - mae: 5.6079\n",
            "Epoch 36/100\n",
            "31/31 [==============================] - 0s 9ms/step - loss: 5.1386 - mae: 5.6148\n",
            "Epoch 37/100\n",
            "31/31 [==============================] - 0s 9ms/step - loss: 5.0434 - mae: 5.5186\n",
            "Epoch 38/100\n",
            "31/31 [==============================] - 0s 9ms/step - loss: 5.0427 - mae: 5.5202\n",
            "Epoch 39/100\n",
            "31/31 [==============================] - 0s 9ms/step - loss: 5.0666 - mae: 5.5397\n",
            "Epoch 40/100\n",
            "31/31 [==============================] - 0s 9ms/step - loss: 4.9898 - mae: 5.4689\n",
            "Epoch 41/100\n",
            "31/31 [==============================] - 0s 9ms/step - loss: 5.1026 - mae: 5.5801\n",
            "Epoch 42/100\n",
            "31/31 [==============================] - 0s 9ms/step - loss: 5.2004 - mae: 5.6734\n",
            "Epoch 43/100\n",
            "31/31 [==============================] - 0s 8ms/step - loss: 5.0652 - mae: 5.5417\n",
            "Epoch 44/100\n",
            "31/31 [==============================] - 0s 9ms/step - loss: 4.9930 - mae: 5.4722\n",
            "Epoch 45/100\n",
            "31/31 [==============================] - 0s 8ms/step - loss: 4.9230 - mae: 5.4011\n",
            "Epoch 46/100\n",
            "31/31 [==============================] - 0s 9ms/step - loss: 4.8724 - mae: 5.3492\n",
            "Epoch 47/100\n",
            "31/31 [==============================] - 0s 9ms/step - loss: 4.9141 - mae: 5.3920\n",
            "Epoch 48/100\n",
            "31/31 [==============================] - 1s 13ms/step - loss: 4.8488 - mae: 5.3258\n",
            "Epoch 49/100\n",
            "31/31 [==============================] - 1s 13ms/step - loss: 4.8243 - mae: 5.3001\n",
            "Epoch 50/100\n",
            "31/31 [==============================] - 1s 13ms/step - loss: 4.8577 - mae: 5.3358\n",
            "Epoch 51/100\n",
            "31/31 [==============================] - 0s 10ms/step - loss: 4.8004 - mae: 5.2785\n",
            "Epoch 52/100\n",
            "31/31 [==============================] - 0s 8ms/step - loss: 4.8388 - mae: 5.3158\n",
            "Epoch 53/100\n",
            "31/31 [==============================] - 1s 15ms/step - loss: 4.8267 - mae: 5.3031\n",
            "Epoch 54/100\n",
            "31/31 [==============================] - 1s 9ms/step - loss: 4.7964 - mae: 5.2739\n",
            "Epoch 55/100\n",
            "31/31 [==============================] - 1s 15ms/step - loss: 4.8097 - mae: 5.2817\n",
            "Epoch 56/100\n",
            "31/31 [==============================] - 0s 9ms/step - loss: 4.7491 - mae: 5.2192\n",
            "Epoch 57/100\n",
            "31/31 [==============================] - 0s 9ms/step - loss: 4.7675 - mae: 5.2427\n",
            "Epoch 58/100\n",
            "31/31 [==============================] - 0s 8ms/step - loss: 4.7155 - mae: 5.1915\n",
            "Epoch 59/100\n",
            "31/31 [==============================] - 0s 9ms/step - loss: 4.6867 - mae: 5.1631\n",
            "Epoch 60/100\n",
            "31/31 [==============================] - 0s 9ms/step - loss: 4.6981 - mae: 5.1699\n",
            "Epoch 61/100\n",
            "31/31 [==============================] - 0s 9ms/step - loss: 4.7358 - mae: 5.2100\n",
            "Epoch 62/100\n",
            "31/31 [==============================] - 0s 8ms/step - loss: 4.7491 - mae: 5.2250\n",
            "Epoch 63/100\n",
            "31/31 [==============================] - 0s 9ms/step - loss: 4.7164 - mae: 5.1926\n",
            "Epoch 64/100\n",
            "31/31 [==============================] - 0s 9ms/step - loss: 4.6417 - mae: 5.1166\n",
            "Epoch 65/100\n",
            "31/31 [==============================] - 0s 9ms/step - loss: 4.7158 - mae: 5.1920\n",
            "Epoch 66/100\n",
            "31/31 [==============================] - 0s 10ms/step - loss: 4.7886 - mae: 5.2630\n",
            "Epoch 67/100\n",
            "31/31 [==============================] - 0s 9ms/step - loss: 4.6540 - mae: 5.1277\n",
            "Epoch 68/100\n",
            "31/31 [==============================] - 0s 8ms/step - loss: 4.6162 - mae: 5.0940\n",
            "Epoch 69/100\n",
            "31/31 [==============================] - 0s 9ms/step - loss: 4.6526 - mae: 5.1303\n",
            "Epoch 70/100\n",
            "31/31 [==============================] - 0s 8ms/step - loss: 4.7014 - mae: 5.1733\n",
            "Epoch 71/100\n",
            "31/31 [==============================] - 0s 9ms/step - loss: 4.7294 - mae: 5.2072\n",
            "Epoch 72/100\n",
            "31/31 [==============================] - 0s 9ms/step - loss: 4.6682 - mae: 5.1435\n",
            "Epoch 73/100\n",
            "31/31 [==============================] - 0s 9ms/step - loss: 4.5831 - mae: 5.0594\n",
            "Epoch 74/100\n",
            "31/31 [==============================] - 0s 12ms/step - loss: 4.6338 - mae: 5.1101\n",
            "Epoch 75/100\n",
            "31/31 [==============================] - 1s 13ms/step - loss: 4.6475 - mae: 5.1247\n",
            "Epoch 76/100\n",
            "31/31 [==============================] - 1s 13ms/step - loss: 4.5670 - mae: 5.0419\n",
            "Epoch 77/100\n",
            "31/31 [==============================] - 1s 12ms/step - loss: 4.6488 - mae: 5.1246\n",
            "Epoch 78/100\n",
            "31/31 [==============================] - 0s 8ms/step - loss: 4.5865 - mae: 5.0603\n",
            "Epoch 79/100\n",
            "31/31 [==============================] - 0s 9ms/step - loss: 4.5512 - mae: 5.0251\n",
            "Epoch 80/100\n",
            "31/31 [==============================] - 0s 8ms/step - loss: 4.5587 - mae: 5.0326\n",
            "Epoch 81/100\n",
            "31/31 [==============================] - 0s 8ms/step - loss: 4.5812 - mae: 5.0588\n",
            "Epoch 82/100\n",
            "31/31 [==============================] - 0s 9ms/step - loss: 4.5577 - mae: 5.0321\n",
            "Epoch 83/100\n",
            "31/31 [==============================] - 0s 9ms/step - loss: 4.6629 - mae: 5.1391\n",
            "Epoch 84/100\n",
            "31/31 [==============================] - 0s 9ms/step - loss: 4.5169 - mae: 4.9935\n",
            "Epoch 85/100\n",
            "31/31 [==============================] - 0s 9ms/step - loss: 4.5298 - mae: 5.0057\n",
            "Epoch 86/100\n",
            "31/31 [==============================] - 0s 8ms/step - loss: 4.5187 - mae: 4.9958\n",
            "Epoch 87/100\n",
            "31/31 [==============================] - 0s 9ms/step - loss: 4.5920 - mae: 5.0687\n",
            "Epoch 88/100\n",
            "31/31 [==============================] - 0s 9ms/step - loss: 4.5094 - mae: 4.9825\n",
            "Epoch 89/100\n",
            "31/31 [==============================] - 0s 8ms/step - loss: 4.4807 - mae: 4.9548\n",
            "Epoch 90/100\n",
            "31/31 [==============================] - 0s 9ms/step - loss: 4.6872 - mae: 5.1648\n",
            "Epoch 91/100\n",
            "31/31 [==============================] - 0s 9ms/step - loss: 4.5664 - mae: 5.0426\n",
            "Epoch 92/100\n",
            "31/31 [==============================] - 0s 9ms/step - loss: 4.5188 - mae: 4.9971\n",
            "Epoch 93/100\n",
            "31/31 [==============================] - 0s 9ms/step - loss: 4.5302 - mae: 5.0041\n",
            "Epoch 94/100\n",
            "31/31 [==============================] - 0s 8ms/step - loss: 4.4713 - mae: 4.9458\n",
            "Epoch 95/100\n",
            "31/31 [==============================] - 0s 10ms/step - loss: 4.5516 - mae: 5.0284\n",
            "Epoch 96/100\n",
            "31/31 [==============================] - 0s 9ms/step - loss: 4.5261 - mae: 5.0010\n",
            "Epoch 97/100\n",
            "31/31 [==============================] - 0s 9ms/step - loss: 4.4673 - mae: 4.9424\n",
            "Epoch 98/100\n",
            "31/31 [==============================] - 0s 9ms/step - loss: 4.5534 - mae: 5.0242\n",
            "Epoch 99/100\n",
            "31/31 [==============================] - 0s 9ms/step - loss: 4.4793 - mae: 4.9573\n",
            "Epoch 100/100\n",
            "31/31 [==============================] - 0s 8ms/step - loss: 4.5110 - mae: 4.9904\n"
          ]
        }
      ],
      "source": [
        "# Reset states generated by Keras\n",
        "tf.keras.backend.clear_session()\n",
        "\n",
        "# Build the model\n",
        "model = tf.keras.models.Sequential([\n",
        "  tf.keras.layers.Lambda(lambda x: tf.expand_dims(x, axis=-1),\n",
        "                      input_shape=[None]),\n",
        "   tf.keras.layers.Bidirectional(tf.keras.layers.LSTM(32, return_sequences=True)),\n",
        "  tf.keras.layers.Bidirectional(tf.keras.layers.LSTM(32)),\n",
        "  tf.keras.layers.Dense(1),\n",
        "  tf.keras.layers.Lambda(lambda x: x * 100.0)\n",
        "])\n",
        "\n",
        "# Set the learning rate\n",
        "learning_rate = 2e-6\n",
        "\n",
        "# Set the optimizer \n",
        "optimizer = tf.keras.optimizers.SGD(learning_rate=learning_rate, momentum=0.9)\n",
        "\n",
        "# Set the training parameters\n",
        "model.compile(loss=tf.keras.losses.Huber(),\n",
        "              optimizer=optimizer,\n",
        "              metrics=[\"mae\"])\n",
        "\n",
        "# Train the model\n",
        "history = model.fit(dataset,epochs=100)"
      ]
    },
    {
      "cell_type": "markdown",
      "metadata": {
        "id": "RjP4kbGiI7cw"
      },
      "source": [
        "## Model Prediction\n",
        "\n",
        "You will then generate batches of windows to generate predictions that align with the validation set."
      ]
    },
    {
      "cell_type": "code",
      "execution_count": 12,
      "metadata": {
        "id": "QO8cfKwKBBG6"
      },
      "outputs": [],
      "source": [
        "def model_forecast(model, series, window_size, batch_size):\n",
        "    \"\"\"Uses an input model to generate predictions on data windows\n",
        "\n",
        "    Args:\n",
        "      model (TF Keras Model) - model that accepts data windows\n",
        "      series (array of float) - contains the values of the time series\n",
        "      window_size (int) - the number of time steps to include in the window\n",
        "      batch_size (int) - the batch size\n",
        "\n",
        "    Returns:\n",
        "      forecast (numpy array) - array containing predictions\n",
        "    \"\"\"\n",
        "\n",
        "    # Generate a TF Dataset from the series values\n",
        "    dataset = tf.data.Dataset.from_tensor_slices(series)\n",
        "\n",
        "    # Window the data but only take those with the specified size\n",
        "    dataset = dataset.window(window_size, shift=1, drop_remainder=True)\n",
        "\n",
        "    # Flatten the windows by putting its elements in a single batch\n",
        "    dataset = dataset.flat_map(lambda w: w.batch(window_size))\n",
        "    \n",
        "    # Create batches of windows\n",
        "    dataset = dataset.batch(batch_size).prefetch(1)\n",
        "    \n",
        "    # Get predictions on the entire dataset\n",
        "    forecast = model.predict(dataset)\n",
        "    \n",
        "    return forecast"
      ]
    },
    {
      "cell_type": "code",
      "execution_count": 13,
      "metadata": {
        "id": "_plB3UseBD8o",
        "colab": {
          "base_uri": "https://localhost:8080/",
          "height": 559
        },
        "outputId": "b3f15e79-8e76-4feb-c437-d07c3a7c1464"
      },
      "outputs": [
        {
          "output_type": "stream",
          "name": "stdout",
          "text": [
            "15/15 [==============================] - 2s 12ms/step\n"
          ]
        },
        {
          "output_type": "display_data",
          "data": {
            "text/plain": [
              "<Figure size 1000x600 with 1 Axes>"
            ],
            "image/png": "[encoded data removed]"
          },
          "metadata": {}
        }
      ],
      "source": [
        "# Reduce the original series\n",
        "forecast_series = series[split_time-window_size:-1]\n",
        "\n",
        "# Use helper function to generate predictions\n",
        "forecast = model_forecast(model, forecast_series, window_size, batch_size)\n",
        "\n",
        "# Drop single dimensional axis\n",
        "results = forecast.squeeze()\n",
        "\n",
        "# Plot the results\n",
        "plot_series(time_valid, (x_valid, results))"
      ]
    },
    {
      "cell_type": "markdown",
      "metadata": {
        "id": "Nn8iSQkZtaRC"
      },
      "source": [
        "You can then generate the metrics to evaluate the model's performance."
      ]
    },
    {
      "cell_type": "code",
      "execution_count": 14,
      "metadata": {
        "id": "-IKhueZaBGID",
        "colab": {
          "base_uri": "https://localhost:8080/"
        },
        "outputId": "fcb701e1-0b7e-44ab-e3a6-964f2272bcf1"
      },
      "outputs": [
        {
          "output_type": "stream",
          "name": "stdout",
          "text": [
            "68.67683\n",
            "5.878872\n"
          ]
        }
      ],
      "source": [
        "# Compute the MSE and MAE\n",
        "print(tf.keras.metrics.mean_squared_error(x_valid, results).numpy())\n",
        "print(tf.keras.metrics.mean_absolute_error(x_valid, results).numpy())"
      ]
    },
    {
      "cell_type": "markdown",
      "metadata": {
        "id": "bzPIqeMWvbPy"
      },
      "source": [
        "## Wrap Up\n",
        "\n",
        "This concludes this short exercise on using LSTMs for time series forecasting. Next week, you will build upon this and add convolutions. Then, you will start to move away from synthetic data and use real-world datasets. See you there!"
      ]
    },
    {
      "cell_type": "markdown",
      "metadata": {
        "id": "U5PqTePGHeMH"
      },
      "source": [
        "## Optional: Including a Validation Set while Training\n",
        "\n",
        "Back in the first course of this specialization, you saw how you can also monitor the performance of your model against a validation set while training. You can also do that for this lab. \n",
        "\n",
        "First, you need to generate a `val_set` which are data windows and labels that your model can accept. You can simply reuse the `windowed_dataset` function for that and you can pass in the `x_valid` points to generate the windows."
      ]
    },
    {
      "cell_type": "code",
      "execution_count": 15,
      "metadata": {
        "id": "kvFVwL3PC4iX"
      },
      "outputs": [],
      "source": [
        "# Generate data windows of the validation set\n",
        "val_set = windowed_dataset(x_valid, window_size, batch_size, shuffle_buffer_size)"
      ]
    },
    {
      "cell_type": "markdown",
      "metadata": {
        "id": "p68j6XxEvP9K"
      },
      "source": [
        "You can then do the same training as before but pass in the `val_set` to the `validation_data` parameter of the `fit()` method."
      ]
    },
    {
      "cell_type": "code",
      "execution_count": 16,
      "metadata": {
        "id": "wujKz6tXDSn0",
        "colab": {
          "base_uri": "https://localhost:8080/"
        },
        "outputId": "801da2c1-36b5-413f-a2eb-a753a39ab955"
      },
      "outputs": [
        {
          "output_type": "stream",
          "name": "stdout",
          "text": [
            "Epoch 1/100\n",
            "31/31 [==============================] - 8s 65ms/step - loss: 16.3248 - mae: 16.8165 - val_loss: 25.4826 - val_mae: 25.9797\n",
            "Epoch 2/100\n",
            "31/31 [==============================] - 1s 19ms/step - loss: 11.4518 - mae: 11.9412 - val_loss: 25.5195 - val_mae: 26.0180\n",
            "Epoch 3/100\n",
            "31/31 [==============================] - 0s 12ms/step - loss: 9.6904 - mae: 10.1760 - val_loss: 23.9366 - val_mae: 24.4355\n",
            "Epoch 4/100\n",
            "31/31 [==============================] - 0s 12ms/step - loss: 8.3525 - mae: 8.8373 - val_loss: 20.5614 - val_mae: 21.0580\n",
            "Epoch 5/100\n",
            "31/31 [==============================] - 0s 13ms/step - loss: 7.3348 - mae: 7.8179 - val_loss: 17.2499 - val_mae: 17.7464\n",
            "Epoch 6/100\n",
            "31/31 [==============================] - 0s 12ms/step - loss: 6.7282 - mae: 7.2073 - val_loss: 15.8800 - val_mae: 16.3755\n",
            "Epoch 7/100\n",
            "31/31 [==============================] - 0s 12ms/step - loss: 6.3811 - mae: 6.8589 - val_loss: 13.9645 - val_mae: 14.4608\n",
            "Epoch 8/100\n",
            "31/31 [==============================] - 0s 12ms/step - loss: 6.1098 - mae: 6.5888 - val_loss: 12.4786 - val_mae: 12.9655\n",
            "Epoch 9/100\n",
            "31/31 [==============================] - 0s 12ms/step - loss: 5.9557 - mae: 6.4393 - val_loss: 11.8999 - val_mae: 12.3875\n",
            "Epoch 10/100\n",
            "31/31 [==============================] - 0s 12ms/step - loss: 5.8204 - mae: 6.2990 - val_loss: 11.5308 - val_mae: 12.0183\n",
            "Epoch 11/100\n",
            "31/31 [==============================] - 0s 13ms/step - loss: 5.7240 - mae: 6.2068 - val_loss: 10.9872 - val_mae: 11.4765\n",
            "Epoch 12/100\n",
            "31/31 [==============================] - 0s 12ms/step - loss: 5.6328 - mae: 6.1127 - val_loss: 10.7629 - val_mae: 11.2527\n",
            "Epoch 13/100\n",
            "31/31 [==============================] - 0s 12ms/step - loss: 5.6033 - mae: 6.0825 - val_loss: 9.7631 - val_mae: 10.2526\n",
            "Epoch 14/100\n",
            "31/31 [==============================] - 0s 12ms/step - loss: 5.5365 - mae: 6.0158 - val_loss: 9.3714 - val_mae: 9.8620\n",
            "Epoch 15/100\n",
            "31/31 [==============================] - 0s 13ms/step - loss: 5.4493 - mae: 5.9266 - val_loss: 9.5560 - val_mae: 10.0431\n",
            "Epoch 16/100\n",
            "31/31 [==============================] - 0s 12ms/step - loss: 5.3332 - mae: 5.8138 - val_loss: 9.1349 - val_mae: 9.6223\n",
            "Epoch 17/100\n",
            "31/31 [==============================] - 0s 12ms/step - loss: 5.3177 - mae: 5.7926 - val_loss: 9.6068 - val_mae: 10.0979\n",
            "Epoch 18/100\n",
            "31/31 [==============================] - 0s 12ms/step - loss: 5.2385 - mae: 5.7170 - val_loss: 8.3614 - val_mae: 8.8510\n",
            "Epoch 19/100\n",
            "31/31 [==============================] - 0s 12ms/step - loss: 5.1881 - mae: 5.6717 - val_loss: 8.2133 - val_mae: 8.7032\n",
            "Epoch 20/100\n",
            "31/31 [==============================] - 0s 12ms/step - loss: 5.1869 - mae: 5.6652 - val_loss: 8.4588 - val_mae: 8.9436\n",
            "Epoch 21/100\n",
            "31/31 [==============================] - 1s 22ms/step - loss: 5.1358 - mae: 5.6152 - val_loss: 7.9645 - val_mae: 8.4523\n",
            "Epoch 22/100\n",
            "31/31 [==============================] - 1s 19ms/step - loss: 5.0882 - mae: 5.5714 - val_loss: 8.0286 - val_mae: 8.5127\n",
            "Epoch 23/100\n",
            "31/31 [==============================] - 1s 19ms/step - loss: 5.0767 - mae: 5.5545 - val_loss: 7.9805 - val_mae: 8.4647\n",
            "Epoch 24/100\n",
            "31/31 [==============================] - 0s 12ms/step - loss: 5.0205 - mae: 5.5006 - val_loss: 7.2171 - val_mae: 7.7002\n",
            "Epoch 25/100\n",
            "31/31 [==============================] - 0s 12ms/step - loss: 5.0429 - mae: 5.5217 - val_loss: 7.5850 - val_mae: 8.0675\n",
            "Epoch 26/100\n",
            "31/31 [==============================] - 0s 12ms/step - loss: 4.9819 - mae: 5.4593 - val_loss: 7.4817 - val_mae: 7.9627\n",
            "Epoch 27/100\n",
            "31/31 [==============================] - 0s 12ms/step - loss: 4.9475 - mae: 5.4231 - val_loss: 7.4482 - val_mae: 7.9296\n",
            "Epoch 28/100\n",
            "31/31 [==============================] - 0s 12ms/step - loss: 4.9186 - mae: 5.3990 - val_loss: 7.6219 - val_mae: 8.1060\n",
            "Epoch 29/100\n",
            "31/31 [==============================] - 0s 12ms/step - loss: 4.9642 - mae: 5.4379 - val_loss: 7.1258 - val_mae: 7.6072\n",
            "Epoch 30/100\n",
            "31/31 [==============================] - 0s 12ms/step - loss: 4.8941 - mae: 5.3715 - val_loss: 7.0736 - val_mae: 7.5530\n",
            "Epoch 31/100\n",
            "31/31 [==============================] - 0s 13ms/step - loss: 4.8860 - mae: 5.3653 - val_loss: 6.6635 - val_mae: 7.1496\n",
            "Epoch 32/100\n",
            "31/31 [==============================] - 0s 12ms/step - loss: 4.8634 - mae: 5.3375 - val_loss: 6.5022 - val_mae: 6.9845\n",
            "Epoch 33/100\n",
            "31/31 [==============================] - 0s 13ms/step - loss: 4.8071 - mae: 5.2857 - val_loss: 7.3406 - val_mae: 7.8258\n",
            "Epoch 34/100\n",
            "31/31 [==============================] - 0s 12ms/step - loss: 4.8847 - mae: 5.3637 - val_loss: 7.0481 - val_mae: 7.5299\n",
            "Epoch 35/100\n",
            "31/31 [==============================] - 0s 13ms/step - loss: 4.8199 - mae: 5.2928 - val_loss: 6.5602 - val_mae: 7.0465\n",
            "Epoch 36/100\n",
            "31/31 [==============================] - 0s 12ms/step - loss: 4.7462 - mae: 5.2232 - val_loss: 6.7642 - val_mae: 7.2433\n",
            "Epoch 37/100\n",
            "31/31 [==============================] - 1s 13ms/step - loss: 4.7156 - mae: 5.1878 - val_loss: 6.8909 - val_mae: 7.3699\n",
            "Epoch 38/100\n",
            "31/31 [==============================] - 0s 13ms/step - loss: 4.7303 - mae: 5.2029 - val_loss: 7.4632 - val_mae: 7.9441\n",
            "Epoch 39/100\n",
            "31/31 [==============================] - 0s 12ms/step - loss: 4.7036 - mae: 5.1766 - val_loss: 6.4724 - val_mae: 6.9501\n",
            "Epoch 40/100\n",
            "31/31 [==============================] - 0s 12ms/step - loss: 4.6731 - mae: 5.1469 - val_loss: 6.0749 - val_mae: 6.5542\n",
            "Epoch 41/100\n",
            "31/31 [==============================] - 0s 12ms/step - loss: 4.6752 - mae: 5.1482 - val_loss: 6.6477 - val_mae: 7.1298\n",
            "Epoch 42/100\n",
            "31/31 [==============================] - 1s 16ms/step - loss: 4.6502 - mae: 5.1260 - val_loss: 6.1071 - val_mae: 6.5955\n",
            "Epoch 43/100\n",
            "31/31 [==============================] - 1s 23ms/step - loss: 4.7644 - mae: 5.2398 - val_loss: 6.0196 - val_mae: 6.5069\n",
            "Epoch 44/100\n",
            "31/31 [==============================] - 1s 14ms/step - loss: 4.6656 - mae: 5.1416 - val_loss: 6.0487 - val_mae: 6.5365\n",
            "Epoch 45/100\n",
            "31/31 [==============================] - 0s 12ms/step - loss: 4.7193 - mae: 5.1967 - val_loss: 6.1657 - val_mae: 6.6473\n",
            "Epoch 46/100\n",
            "31/31 [==============================] - 0s 12ms/step - loss: 4.6262 - mae: 5.1028 - val_loss: 6.6418 - val_mae: 7.1232\n",
            "Epoch 47/100\n",
            "31/31 [==============================] - 0s 12ms/step - loss: 4.6214 - mae: 5.0967 - val_loss: 5.9756 - val_mae: 6.4608\n",
            "Epoch 48/100\n",
            "31/31 [==============================] - 0s 12ms/step - loss: 4.6066 - mae: 5.0785 - val_loss: 6.4320 - val_mae: 6.9096\n",
            "Epoch 49/100\n",
            "31/31 [==============================] - 0s 12ms/step - loss: 4.5983 - mae: 5.0719 - val_loss: 5.9229 - val_mae: 6.4074\n",
            "Epoch 50/100\n",
            "31/31 [==============================] - 0s 12ms/step - loss: 4.6196 - mae: 5.0943 - val_loss: 6.0637 - val_mae: 6.5469\n",
            "Epoch 51/100\n",
            "31/31 [==============================] - 0s 13ms/step - loss: 4.6839 - mae: 5.1596 - val_loss: 5.7769 - val_mae: 6.2590\n",
            "Epoch 52/100\n",
            "31/31 [==============================] - 0s 12ms/step - loss: 4.6025 - mae: 5.0778 - val_loss: 5.7628 - val_mae: 6.2439\n",
            "Epoch 53/100\n",
            "31/31 [==============================] - 0s 12ms/step - loss: 4.5497 - mae: 5.0236 - val_loss: 6.4802 - val_mae: 6.9586\n",
            "Epoch 54/100\n",
            "31/31 [==============================] - 0s 12ms/step - loss: 4.5636 - mae: 5.0384 - val_loss: 5.9771 - val_mae: 6.4606\n",
            "Epoch 55/100\n",
            "31/31 [==============================] - 0s 12ms/step - loss: 4.6169 - mae: 5.0932 - val_loss: 6.8605 - val_mae: 7.3459\n",
            "Epoch 56/100\n",
            "31/31 [==============================] - 0s 12ms/step - loss: 4.5359 - mae: 5.0101 - val_loss: 6.3812 - val_mae: 6.8589\n",
            "Epoch 57/100\n",
            "31/31 [==============================] - 0s 13ms/step - loss: 4.5657 - mae: 5.0405 - val_loss: 6.2835 - val_mae: 6.7618\n",
            "Epoch 58/100\n",
            "31/31 [==============================] - 0s 12ms/step - loss: 4.4883 - mae: 4.9624 - val_loss: 5.7021 - val_mae: 6.1818\n",
            "Epoch 59/100\n",
            "31/31 [==============================] - 0s 13ms/step - loss: 4.5468 - mae: 5.0189 - val_loss: 5.5125 - val_mae: 5.9855\n",
            "Epoch 60/100\n",
            "31/31 [==============================] - 0s 12ms/step - loss: 4.5286 - mae: 5.0032 - val_loss: 5.5050 - val_mae: 5.9821\n",
            "Epoch 61/100\n",
            "31/31 [==============================] - 0s 12ms/step - loss: 4.5371 - mae: 5.0109 - val_loss: 5.8861 - val_mae: 6.3697\n",
            "Epoch 62/100\n",
            "31/31 [==============================] - 1s 21ms/step - loss: 4.4993 - mae: 4.9734 - val_loss: 5.4891 - val_mae: 5.9689\n",
            "Epoch 63/100\n",
            "31/31 [==============================] - 1s 20ms/step - loss: 4.4872 - mae: 4.9645 - val_loss: 5.5690 - val_mae: 6.0473\n",
            "Epoch 64/100\n",
            "31/31 [==============================] - 0s 12ms/step - loss: 4.5063 - mae: 4.9824 - val_loss: 5.8742 - val_mae: 6.3570\n",
            "Epoch 65/100\n",
            "31/31 [==============================] - 0s 12ms/step - loss: 4.5396 - mae: 5.0093 - val_loss: 5.5704 - val_mae: 6.0488\n",
            "Epoch 66/100\n",
            "31/31 [==============================] - 0s 12ms/step - loss: 4.4985 - mae: 4.9726 - val_loss: 5.9845 - val_mae: 6.4671\n",
            "Epoch 67/100\n",
            "31/31 [==============================] - 0s 12ms/step - loss: 4.5362 - mae: 5.0095 - val_loss: 6.0274 - val_mae: 6.5073\n",
            "Epoch 68/100\n",
            "31/31 [==============================] - 0s 12ms/step - loss: 4.5988 - mae: 5.0736 - val_loss: 5.5137 - val_mae: 5.9912\n",
            "Epoch 69/100\n",
            "31/31 [==============================] - 0s 12ms/step - loss: 4.5285 - mae: 5.0034 - val_loss: 6.3849 - val_mae: 6.8672\n",
            "Epoch 70/100\n",
            "31/31 [==============================] - 0s 12ms/step - loss: 4.4530 - mae: 4.9277 - val_loss: 5.9902 - val_mae: 6.4706\n",
            "Epoch 71/100\n",
            "31/31 [==============================] - 0s 12ms/step - loss: 4.4406 - mae: 4.9166 - val_loss: 6.4535 - val_mae: 6.9334\n",
            "Epoch 72/100\n",
            "31/31 [==============================] - 0s 12ms/step - loss: 4.5021 - mae: 4.9767 - val_loss: 5.5074 - val_mae: 5.9839\n",
            "Epoch 73/100\n",
            "31/31 [==============================] - 0s 12ms/step - loss: 4.4611 - mae: 4.9345 - val_loss: 5.3585 - val_mae: 5.8399\n",
            "Epoch 74/100\n",
            "31/31 [==============================] - 0s 12ms/step - loss: 4.4470 - mae: 4.9240 - val_loss: 5.5109 - val_mae: 5.9896\n",
            "Epoch 75/100\n",
            "31/31 [==============================] - 0s 12ms/step - loss: 4.4925 - mae: 4.9678 - val_loss: 5.5160 - val_mae: 5.9952\n",
            "Epoch 76/100\n",
            "31/31 [==============================] - 0s 12ms/step - loss: 4.4690 - mae: 4.9413 - val_loss: 6.1408 - val_mae: 6.6207\n",
            "Epoch 77/100\n",
            "31/31 [==============================] - 0s 12ms/step - loss: 4.5256 - mae: 5.0013 - val_loss: 5.9698 - val_mae: 6.4518\n",
            "Epoch 78/100\n",
            "31/31 [==============================] - 0s 12ms/step - loss: 4.4884 - mae: 4.9656 - val_loss: 5.4324 - val_mae: 5.9174\n",
            "Epoch 79/100\n",
            "31/31 [==============================] - 0s 12ms/step - loss: 4.5642 - mae: 5.0378 - val_loss: 5.2488 - val_mae: 5.7242\n",
            "Epoch 80/100\n",
            "31/31 [==============================] - 0s 12ms/step - loss: 4.4589 - mae: 4.9319 - val_loss: 5.5040 - val_mae: 5.9821\n",
            "Epoch 81/100\n",
            "31/31 [==============================] - 1s 20ms/step - loss: 4.3782 - mae: 4.8544 - val_loss: 5.4131 - val_mae: 5.8917\n",
            "Epoch 82/100\n",
            "31/31 [==============================] - 1s 23ms/step - loss: 4.4707 - mae: 4.9441 - val_loss: 5.2078 - val_mae: 5.6850\n",
            "Epoch 83/100\n",
            "31/31 [==============================] - 1s 25ms/step - loss: 4.5009 - mae: 4.9758 - val_loss: 5.3431 - val_mae: 5.8209\n",
            "Epoch 84/100\n",
            "31/31 [==============================] - 0s 12ms/step - loss: 4.4761 - mae: 4.9482 - val_loss: 7.0427 - val_mae: 7.5239\n",
            "Epoch 85/100\n",
            "31/31 [==============================] - 0s 12ms/step - loss: 4.5009 - mae: 4.9790 - val_loss: 5.6732 - val_mae: 6.1553\n",
            "Epoch 86/100\n",
            "31/31 [==============================] - 1s 13ms/step - loss: 4.4059 - mae: 4.8789 - val_loss: 5.7356 - val_mae: 6.2180\n",
            "Epoch 87/100\n",
            "31/31 [==============================] - 0s 13ms/step - loss: 4.4534 - mae: 4.9245 - val_loss: 5.4747 - val_mae: 5.9550\n",
            "Epoch 88/100\n",
            "31/31 [==============================] - 0s 13ms/step - loss: 4.4075 - mae: 4.8859 - val_loss: 5.7310 - val_mae: 6.2143\n",
            "Epoch 89/100\n",
            "31/31 [==============================] - 0s 12ms/step - loss: 4.3911 - mae: 4.8629 - val_loss: 6.0921 - val_mae: 6.5748\n",
            "Epoch 90/100\n",
            "31/31 [==============================] - 0s 12ms/step - loss: 4.4878 - mae: 4.9642 - val_loss: 6.8214 - val_mae: 7.3033\n",
            "Epoch 91/100\n",
            "31/31 [==============================] - 0s 12ms/step - loss: 4.5003 - mae: 4.9750 - val_loss: 6.6318 - val_mae: 7.1128\n",
            "Epoch 92/100\n",
            "31/31 [==============================] - 0s 12ms/step - loss: 4.4808 - mae: 4.9564 - val_loss: 6.0778 - val_mae: 6.5589\n",
            "Epoch 93/100\n",
            "31/31 [==============================] - 0s 12ms/step - loss: 4.4397 - mae: 4.9127 - val_loss: 5.1034 - val_mae: 5.5747\n",
            "Epoch 94/100\n",
            "31/31 [==============================] - 0s 12ms/step - loss: 4.4620 - mae: 4.9400 - val_loss: 5.8508 - val_mae: 6.3324\n",
            "Epoch 95/100\n",
            "31/31 [==============================] - 0s 12ms/step - loss: 4.4150 - mae: 4.8908 - val_loss: 5.6014 - val_mae: 6.0831\n",
            "Epoch 96/100\n",
            "31/31 [==============================] - 0s 12ms/step - loss: 4.3908 - mae: 4.8625 - val_loss: 5.3849 - val_mae: 5.8623\n",
            "Epoch 97/100\n",
            "31/31 [==============================] - 0s 12ms/step - loss: 4.4068 - mae: 4.8809 - val_loss: 5.2211 - val_mae: 5.7095\n",
            "Epoch 98/100\n",
            "31/31 [==============================] - 0s 12ms/step - loss: 4.3935 - mae: 4.8675 - val_loss: 5.3783 - val_mae: 5.8614\n",
            "Epoch 99/100\n",
            "31/31 [==============================] - 0s 12ms/step - loss: 4.4697 - mae: 4.9448 - val_loss: 5.0925 - val_mae: 5.5693\n",
            "Epoch 100/100\n",
            "31/31 [==============================] - 0s 12ms/step - loss: 4.4420 - mae: 4.9186 - val_loss: 5.9603 - val_mae: 6.4414\n"
          ]
        }
      ],
      "source": [
        "# Reset states generated by Keras\n",
        "tf.keras.backend.clear_session()\n",
        "\n",
        "# Build the model\n",
        "model = tf.keras.models.Sequential([\n",
        "  tf.keras.layers.Lambda(lambda x: tf.expand_dims(x, axis=-1),\n",
        "                      input_shape=[None]),\n",
        "   tf.keras.layers.Bidirectional(tf.keras.layers.LSTM(32, return_sequences=True)),\n",
        "  tf.keras.layers.Bidirectional(tf.keras.layers.LSTM(32)),\n",
        "  tf.keras.layers.Dense(1),\n",
        "  tf.keras.layers.Lambda(lambda x: x * 100.0)\n",
        "])\n",
        "\n",
        "# Set the learning rate\n",
        "learning_rate = 2e-6\n",
        "\n",
        "# Set the optimizer \n",
        "optimizer = tf.keras.optimizers.SGD(learning_rate=learning_rate, momentum=0.9)\n",
        "\n",
        "# Set the training parameters\n",
        "model.compile(loss=tf.keras.losses.Huber(),\n",
        "              optimizer=optimizer,\n",
        "              metrics=[\"mae\"])\n",
        "\n",
        "# Train the model\n",
        "history = model.fit(dataset,epochs=100, validation_data=val_set)"
      ]
    }
  ],
  "metadata": {
    "accelerator": "GPU",
    "colab": {
      "provenance": []
    },
    "kernelspec": {
      "display_name": "Python 3",
      "language": "python",
      "name": "python3"
    },
    "language_info": {
      "codemirror_mode": {
        "name": "ipython",
        "version": 3
      },
      "file_extension": ".py",
      "mimetype": "text/x-python",
      "name": "python",
      "nbconvert_exporter": "python",
      "pygments_lexer": "ipython3",
      "version": "3.7.4"
    },
    "gpuClass": "standard"
  },
  "nbformat": 4,
  "nbformat_minor": 0
}